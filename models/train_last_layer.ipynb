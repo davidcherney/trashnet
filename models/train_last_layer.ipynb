{
 "cells": [
  {
   "cell_type": "markdown",
   "id": "888bab52-af9f-43aa-9eed-e07835a7eba0",
   "metadata": {},
   "source": [
    "# Train Last Layer"
   ]
  },
  {
   "cell_type": "markdown",
   "id": "b07b0695-e1d5-4791-bcd7-be2b97422ce2",
   "metadata": {},
   "source": [
    "In this NB I will try to figure out which layer is put on top of the pre-trained MovileNetV2, and train only that layer, as recommended by Chalet. "
   ]
  },
  {
   "cell_type": "markdown",
   "id": "9886e5f9-72c3-4207-9d49-e13856b456f5",
   "metadata": {
    "tags": []
   },
   "source": [
    "## 1) Data pipeline"
   ]
  },
  {
   "cell_type": "code",
   "execution_count": 10,
   "id": "89b9155f-fd54-4cae-9d36-52df45091a04",
   "metadata": {},
   "outputs": [],
   "source": [
    "import numpy as np\n",
    "from glob import glob\n",
    "import os\n",
    "import PIL\n",
    "import tensorflow as tf\n",
    "import matplotlib.pyplot as plt\n",
    "\n",
    "from tensorflow import keras\n",
    "## retrieve model\n",
    "# model = keras.models.load_model('saved_models/')\n",
    "\n",
    "## even a pre-trained model needs data:\n",
    "# 1. Sort paths to files\n",
    "\n",
    "IMAGE_SIZE = 224\n",
    "path = '../beachlitter/'\n",
    "images = sorted(glob(os.path.join(path, \"images/*.jpg\"))) # list of strings\n",
    "masks = sorted(glob(os.path.join(path, \"maskpngs/*.png\"))) \n",
    "\n",
    "from sklearn.model_selection import train_test_split\n",
    "\n",
    "def sort_paths(path, split=0.1):\n",
    "    # PATH = \"gs://dmcherney/beachlitter/\"\n",
    "    # glob(file_pattern) gives a list of strings satisfying the pattern\n",
    "    images = sorted(glob(os.path.join(path, \"images/*\")))\n",
    "    masks = sorted(glob(os.path.join(path, \"maskpngs/*\")))\n",
    "\n",
    "    total_size = len(images)\n",
    "    valid_size = int(split * total_size)\n",
    "    test_size = int(split * total_size)\n",
    "    \n",
    "    #shuffle with the same random seed to make sure masks stay with images.\n",
    "    train_x, valid_x = train_test_split(images, test_size=valid_size, random_state=42)\n",
    "    train_y, valid_y = train_test_split(masks, test_size=valid_size, random_state=42)\n",
    "\n",
    "    train_x, test_x = train_test_split(train_x, test_size=test_size, random_state=42)\n",
    "    train_y, test_y = train_test_split(train_y, test_size=test_size, random_state=42)\n",
    "\n",
    "    return (train_x, train_y), (valid_x, valid_y), (test_x, test_y)\n",
    "\n",
    "(train_x, train_y), (valid_x, valid_y), (test_x, test_y) = sort_paths(path)\n",
    "\n",
    "#2 functions to read images: path -> PIL -> array\n",
    "\n",
    "def read_image(path): #takes in a path, gives out a np array\n",
    "    path = path.decode() # neede because this function is in a tf pipe\n",
    "    # open image\n",
    "    im = PIL.Image.open(path).resize((IMAGE_SIZE,IMAGE_SIZE))\n",
    "    # image to tensor\n",
    "    im = tf.keras.utils.img_to_array(im, data_format=None, dtype='float32')\n",
    "    # normalize image\n",
    "    im = im/255.\n",
    "    return im\n",
    "\n",
    "def read_mask(path):\n",
    "    path = path.decode() # neede because this function is in a tf pipe\n",
    "    # open mask\n",
    "    ma = PIL.Image.open(path).resize((IMAGE_SIZE,IMAGE_SIZE))\n",
    "    # mask to tensor\n",
    "    ma = tf.keras.utils.img_to_array(ma, data_format=None, dtype='float32')\n",
    "    # change catagory numbers from 1 to 8 into 0 to 7\n",
    "    ma[:,:,0] -= 1\n",
    "    # one hot encode\n",
    "    ma = to_categorical(ma[:,:,0],num_classes=8, dtype='float32')\n",
    "    return ma\n",
    "\n",
    "# arrays to tensorflow tensors:\n",
    "def tf_parse(x, y): # takes in 2 paths, not lists\n",
    "    def _parse(x, y): # takes in 2 paths\n",
    "        x = read_image(x) \n",
    "        y = read_mask(y)\n",
    "        return x, y # gives out 2 np.arrays\n",
    "\n",
    "    x, y = tf.numpy_function(_parse, [x, y], [tf.float32, tf.float32]) #takes in 2 paths, gives out 2 tf.tesors\n",
    "    x.set_shape([IMAGE_SIZE, IMAGE_SIZE, 3]) # seems redundant, but for now it is bouble check\n",
    "    y.set_shape([IMAGE_SIZE, IMAGE_SIZE, 8])\n",
    "    return x, y # tf.tesors \n",
    "\n",
    "# 3 organize data into tf dataset of tf tensors\n",
    "def tf_dataset(x, y, batch=8): #takes in x : list of paths, y : list of paths\n",
    "    dataset = tf.data.Dataset.from_tensor_slices((x, y))\n",
    "    dataset = dataset.map(tf_parse)\n",
    "    dataset = dataset.batch(batch)\n",
    "    dataset = dataset.repeat()\n",
    "    return dataset\n",
    "\n",
    "train_dataset = tf_dataset(train_x, train_y) # input: lists of filenames . Output: to batched tf datasets of parsed images\n",
    "valid_dataset = tf_dataset(valid_x, valid_y)\n"
   ]
  },
  {
   "cell_type": "code",
   "execution_count": 11,
   "id": "60b2f1da-963e-444d-820f-8808f927f022",
   "metadata": {},
   "outputs": [],
   "source": [
    "# network architecture and fitting tools\n",
    "from tensorflow import keras\n",
    "from tensorflow.keras.models import Model\n",
    "from tensorflow.keras import layers\n",
    "from tensorflow.keras.layers import Conv2D, Activation, BatchNormalization\n",
    "from tensorflow.keras.layers import UpSampling2D, Input, Concatenate\n",
    "from tensorflow.keras.callbacks import EarlyStopping, ReduceLROnPlateau \n",
    "from tensorflow.keras.callbacks import TensorBoard \n",
    "# from tensorflow.keras.metrics import Recall, Precision\n",
    "from tensorflow.keras import backend as K\n",
    "from tensorflow.keras.utils import to_categorical\n",
    "import datetime\n",
    "\n",
    "\n",
    "from tensorflow.keras.applications import MobileNetV2 "
   ]
  },
  {
   "cell_type": "markdown",
   "id": "2bbf2add-5470-4486-b4c6-1400565baf7c",
   "metadata": {
    "tags": []
   },
   "source": [
    "## 3) Modify the model: Freeze Encoder!"
   ]
  },
  {
   "cell_type": "code",
   "execution_count": 12,
   "id": "697b4a4c-f5e8-498c-bb1a-14991af84219",
   "metadata": {},
   "outputs": [
    {
     "name": "stdout",
     "output_type": "stream",
     "text": [
      "WARNING:tensorflow:`input_shape` is undefined or non-square, or `rows` is not in [96, 128, 160, 192, 224]. Weights for input shape (224, 224) will be loaded as the default.\n"
     ]
    }
   ],
   "source": [
    "\n",
    "def model():\n",
    "    inputs = Input(shape=(IMAGE_SIZE, IMAGE_SIZE, 3), name=\"input_image\")\n",
    "    \n",
    "    # the pre-trained encoder\n",
    "    encoder = MobileNetV2(input_tensor=inputs, \n",
    "                          weights=\"imagenet\", # instead of randomized initial weights\n",
    "                          include_top=False, # to fully connected softmax layer off. \n",
    "                          alpha=0.35) # proportionally decrease the number of filters in each layer. see paper.\n",
    "    encoder.trainable = False\n",
    "    skip_connection_names = [\"input_image\", \"block_1_expand_relu\", \n",
    "                             \"block_3_expand_relu\", \"block_6_expand_relu\"]\n",
    "    encoder_output = encoder.get_layer(\"block_13_expand_relu\").output\n",
    "    # output of encoder is 16x16 \n",
    "    \n",
    "    # the decoder follows\n",
    "    f = [16, 32, 48, 64] # the numbers of filters to use in skips traveling UP the U \n",
    "    x = encoder_output\n",
    "    for i in range(1, len(skip_connection_names)+1, 1):\n",
    "        x_skip = encoder.get_layer(skip_connection_names[-i]).output\n",
    "        x = UpSampling2D((2, 2))(x)\n",
    "        x = Concatenate()([x, x_skip])\n",
    "        \n",
    "        x = Conv2D(f[-i], (3, 3), padding=\"same\")(x)\n",
    "        x = BatchNormalization()(x)\n",
    "        x = Activation(\"relu\")(x)\n",
    "        \n",
    "        x = Conv2D(f[-i], (3, 3), padding=\"same\")(x)\n",
    "        x = BatchNormalization()(x)\n",
    "        x = Activation(\"relu\")(x)\n",
    "        \n",
    "    # output layer:\n",
    "    x = Conv2D(8, (1, 1), padding=\"same\")(x)\n",
    "    x = Activation(\"softmax\")(x)\n",
    "\n",
    "    \n",
    "    model = Model(inputs, x) # object created\n",
    "    return model # object returned\n",
    "\n",
    "model = model()\n",
    "LR = 1e-4 #learning rate\n",
    "opt = tf.keras.optimizers.Nadam(LR)\n",
    "model.compile(loss='categorical_crossentropy', optimizer=opt, metrics=['accuracy'])"
   ]
  },
  {
   "cell_type": "markdown",
   "id": "a3ee22ff-7a6e-42d7-9f99-d914a9d5b020",
   "metadata": {
    "tags": []
   },
   "source": [
    "## 3) Train with the fit method"
   ]
  },
  {
   "cell_type": "markdown",
   "id": "0f51fde4-64b7-4661-8c1a-3e51e94ab359",
   "metadata": {
    "tags": []
   },
   "source": [
    "**Warning:** the following cell takes 5 hours of computation time on GCP's default settings of 15GB RAM CPU."
   ]
  },
  {
   "cell_type": "code",
   "execution_count": null,
   "id": "672c0dab-6227-42ef-9de3-1ecdac4288a1",
   "metadata": {
    "scrolled": true,
    "tags": []
   },
   "outputs": [],
   "source": [
    "# options first:\n",
    "LR = 1e-4 #learning rate\n",
    "opt = tf.keras.optimizers.Nadam(LR)\n",
    "BATCH = 8 \n",
    "train_steps = len(train_x)//BATCH\n",
    "valid_steps = len(valid_x)//BATCH\n",
    "log_dir = \"../saved_models/train_with_frozen_encoder/logs/fit/\" + datetime.datetime.now().strftime(\"%Y%m%d-%H%M%S\") # for tensorboard logs\n",
    "callbacks_list = [\n",
    "    ReduceLROnPlateau(monitor='val_loss', factor=0.1, patience=4),\n",
    "    # EarlyStopping(monitor='val_loss', \n",
    "    #               patience=5, \n",
    "    #               restore_best_weights=True # lets me save the model.\n",
    "    #                      ),\n",
    "    TensorBoard(log_dir=log_dir, histogram_freq=1, #for histogram computation each epoc \n",
    "                              )\n",
    "]\n",
    "\n",
    "#call fit\n",
    "res = model.fit(\n",
    "    train_dataset, # this actas as both X and y\n",
    "    validation_data=valid_dataset,\n",
    "    epochs = 50,\n",
    "    steps_per_epoch=train_steps,\n",
    "    validation_steps=valid_steps,\n",
    "    callbacks=callbacks_list,\n",
    "    verbose=1\n",
    ")"
   ]
  },
  {
   "cell_type": "markdown",
   "id": "864e3bb4-ce8e-4249-8524-994b322632ad",
   "metadata": {},
   "source": [
    "## 3.1) Saving training data to file"
   ]
  },
  {
   "cell_type": "code",
   "execution_count": null,
   "id": "f0877589-94e2-49e8-80db-b6892160466f",
   "metadata": {},
   "outputs": [],
   "source": [
    "import pandas as pd\n",
    "scores= pd.DataFrame(data=res.history)\n",
    "scores.to_csv('../saved_models/scores_train_last_layer.csv')\n",
    "scores.sort_values(by='val_accuracy',ascending=False)"
   ]
  },
  {
   "cell_type": "markdown",
   "id": "17e6da56-4bc8-48ff-91f5-5e5b61e9f214",
   "metadata": {},
   "source": [
    "And to re-load training data"
   ]
  },
  {
   "cell_type": "code",
   "execution_count": 13,
   "id": "3d66eba4-b8fc-49fd-8d3a-fbf53826e7c3",
   "metadata": {},
   "outputs": [],
   "source": [
    "scores = pd.read_csv('../saved_models/scores_train_last_layer.csv' )\n",
    "del scores['Unnamed: 0']\n",
    "\n",
    "#For when you run further training epochs:\n",
    "\n",
    "# scores = pd.concat([scores,pd.DataFrame(data=res.history)])\n",
    "# scores # index now repeats.\n",
    "\n",
    "# scores.reset_index(inplace=True)"
   ]
  },
  {
   "cell_type": "markdown",
   "id": "48c14e56-35f6-4652-840d-b1b752e91df6",
   "metadata": {},
   "source": [
    "# 4) plot val and acc\n"
   ]
  },
  {
   "cell_type": "code",
   "execution_count": 15,
   "id": "ab740265-e4cd-4b17-851b-8b04b06d9a8b",
   "metadata": {},
   "outputs": [
    {
     "data": {
      "image/png": "[encoded data removed]",
      "text/plain": [
       "<Figure size 576x288 with 1 Axes>"
      ]
     },
     "metadata": {
      "needs_background": "light"
     },
     "output_type": "display_data"
    }
   ],
   "source": [
    "plt.figure(figsize=(8,4))\n",
    "plt.plot(scores['accuracy'], label='Train Accuracy')\n",
    "plt.plot(scores['val_accuracy'], label='Val Accuracy')\n",
    "plt.legend()\n",
    "plt.title(f'Accuracy after {len(scores)} epochs')\n",
    "plt.xlabel('Epoch')\n",
    "plt.ylabel('Pixel Accuracy')\n",
    "plt.tight_layout()\n",
    "plt.savefig('../images/train_decoder.png', transparent=True);"
   ]
  },
  {
   "cell_type": "code",
   "execution_count": 16,
   "id": "c297ce26-31b2-46c1-9f63-8a1e230c83a4",
   "metadata": {},
   "outputs": [
    {
     "data": {
      "image/png": "[encoded data removed]",
      "text/plain": [
       "<Figure size 432x288 with 1 Axes>"
      ]
     },
     "metadata": {
      "needs_background": "light"
     },
     "output_type": "display_data"
    }
   ],
   "source": [
    "plt.plot(scores['loss'], label='Train Loss')\n",
    "plt.plot(scores['val_loss'], label='Val Loss')\n",
    "plt.legend()\n",
    "plt.title(f'Accuracy after {len(scores)} epochs')\n",
    "plt.tight_layout();"
   ]
  },
  {
   "cell_type": "markdown",
   "id": "f589414a-5e33-4ddb-b329-d394536add06",
   "metadata": {},
   "source": [
    "# 5) Tensorboard"
   ]
  },
  {
   "cell_type": "code",
   "execution_count": 18,
   "id": "7e82d0c1-b411-41bd-a28e-8c8ee72e5372",
   "metadata": {
    "tags": []
   },
   "outputs": [],
   "source": [
    "%load_ext tensorboard\n",
    "%tensorboard --logdir ../saved_models/train_with_frozen_encoder/logs/fit/"
   ]
  },
  {
   "cell_type": "markdown",
   "id": "2862262f-576f-414f-b50e-3c581bf370a0",
   "metadata": {},
   "source": [
    "# 6) Save or Load the model\n",
    "## 6.1) As keras model"
   ]
  },
  {
   "cell_type": "code",
   "execution_count": null,
   "id": "fd1dfda5-b4da-4a9b-b17f-f45fc760cb82",
   "metadata": {},
   "outputs": [],
   "source": [
    "model.save('saved_models/train_with_frozen_encoder/')"
   ]
  },
  {
   "cell_type": "code",
   "execution_count": null,
   "id": "81b7c08e-59da-44be-94a1-ef090ffd4347",
   "metadata": {},
   "outputs": [],
   "source": [
    "from tensorflow import keras\n",
    "model = keras.models.load_model('saved_models/train_with_frozen_encoder/')"
   ]
  },
  {
   "cell_type": "markdown",
   "id": "b859227c-99b0-4d3b-aae8-8c69bbdec954",
   "metadata": {},
   "source": [
    "## 6.2) As h5py"
   ]
  },
  {
   "cell_type": "code",
   "execution_count": null,
   "id": "69846286-ec65-44a0-9080-adf8e0c82d89",
   "metadata": {},
   "outputs": [],
   "source": [
    "model.save(\"saved_models/train_with_frozen_encoder/model.h5\")\n",
    "\n",
    "reconstructed_model = keras.models.load_model(\"saved_models/train_with_frozen_encoder/model.h5\")"
   ]
  },
  {
   "cell_type": "markdown",
   "id": "0e82bcfc-b2eb-4b93-941b-e4132f920df1",
   "metadata": {},
   "source": [
    "# 7) code for deployment"
   ]
  },
  {
   "cell_type": "markdown",
   "id": "e3bb883d-cc59-402c-b91a-0e4b3c747fa8",
   "metadata": {},
   "source": [
    "grab an image"
   ]
  },
  {
   "cell_type": "code",
   "execution_count": null,
   "id": "96084dd8-e153-434b-b119-26655382225d",
   "metadata": {},
   "outputs": [],
   "source": [
    "index = 9\n",
    "im = PIL.Image.open(test_x[index]) # .resize((IMAGE_SIZE,IMAGE_SIZE)) How I'd usu get the size right\n",
    "image = tf.keras.utils.img_to_array(im, data_format=None, dtype='float32') # in liew of tf.io.decode_image\n",
    "input_shape = (224, 224)\n",
    "image = tf.keras.preprocessing.image.smart_resize( image, input_shape, interpolation='bilinear')\n",
    "image = image/255.\n",
    "array = np.expand_dims(image, axis=0)\n",
    "\n",
    "\n",
    "pred = reconstructed_model.predict(array)\n",
    "pred = tf.keras.backend.argmax(pred[0,:,:,:],axis=-1) +1 \n",
    "pred = np.reshape(pred, input_shape)\n",
    "\n",
    "fig = plt.figure(figsize=(15, 15))\n",
    "\n",
    "fig.add_subplot(1, 2, 1 )\n",
    "plt.axis('off')\n",
    "plt.title('Your Beach Image',fontdict={'fontsize': 30})\n",
    "plt.imshow(image)\n",
    "\n",
    "fig.add_subplot(1, 2, 2 )\n",
    "plt.axis('off')\n",
    "plt.title('Where The Trash At',fontdict={'fontsize': 30})\n",
    "plt.imshow(image)\n",
    "plt.imshow(pred==1, alpha=0.3)\n",
    "\n",
    "plt.tight_layout()\n",
    "plt.savefig('mask.png')\n"
   ]
  }
 ],
 "metadata": {
  "environment": {
   "kernel": "python3",
   "name": "tf2-gpu.2-8.m91",
   "type": "gcloud",
   "uri": "gcr.io/deeplearning-platform-release/tf2-gpu.2-8:m91"
  },
  "kernelspec": {
   "display_name": "Python 3",
   "language": "python",
   "name": "python3"
  },
  "language_info": {
   "codemirror_mode": {
    "name": "ipython",
    "version": 3
   },
   "file_extension": ".py",
   "mimetype": "text/x-python",
   "name": "python",
   "nbconvert_exporter": "python",
   "pygments_lexer": "ipython3",
   "version": "3.7.12"
  }
 },
 "nbformat": 4,
 "nbformat_minor": 5
}
